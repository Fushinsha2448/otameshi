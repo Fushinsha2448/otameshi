{
  "cells": [
    {
      "cell_type": "markdown",
      "metadata": {
        "id": "view-in-github",
        "colab_type": "text"
      },
      "source": [
        "<a href=\"https://colab.research.google.com/github/Fushinsha2448/otameshi/blob/main/otosien_book.ipynb\" target=\"_parent\"><img src=\"https://colab.research.google.com/assets/colab-badge.svg\" alt=\"Open In Colab\"/></a>"
      ]
    },
    {
      "cell_type": "markdown",
      "metadata": {
        "id": "mXs_WKTDJeVg"
      },
      "source": [
        "# 音MAD作者支援用簡易ノートブック\n",
        "\n",
        "音MAD製作において便利な機能をつめこんだノートブックです。\n",
        "\n",
        "Google Drive上のsiendirディレクトリにダウンロードした動画や音声などを格納します。\n",
        "\n",
        "多少設計にグダグダなところがありますが、動けばok！！の精神で見逃してください…"
      ]
    },
    {
      "cell_type": "markdown",
      "metadata": {
        "id": "d3mdM34oJ0k6"
      },
      "source": [
        "## Google Driveマウント\n",
        "Google Driveをマウントします。\n",
        "\n",
        "必ず最初に実行してください。"
      ]
    },
    {
      "cell_type": "code",
      "execution_count": 1,
      "metadata": {
        "cellView": "form",
        "colab": {
          "base_uri": "https://localhost:8080/",
          "height": 356
        },
        "id": "ytUBWfA4J96R",
        "outputId": "b8d6e92c-532b-4ff0-b9a8-c4a4e3854628"
      },
      "outputs": [
        {
          "output_type": "error",
          "ename": "MessageError",
          "evalue": "Error: credential propagation was unsuccessful",
          "traceback": [
            "\u001b[0;31m---------------------------------------------------------------------------\u001b[0m",
            "\u001b[0;31mMessageError\u001b[0m                              Traceback (most recent call last)",
            "\u001b[0;32m<ipython-input-1-27bab1361133>\u001b[0m in \u001b[0;36m<cell line: 4>\u001b[0;34m()\u001b[0m\n\u001b[1;32m      2\u001b[0m \u001b[0;32mfrom\u001b[0m \u001b[0mgoogle\u001b[0m\u001b[0;34m.\u001b[0m\u001b[0mcolab\u001b[0m \u001b[0;32mimport\u001b[0m \u001b[0mdrive\u001b[0m\u001b[0;34m\u001b[0m\u001b[0;34m\u001b[0m\u001b[0m\n\u001b[1;32m      3\u001b[0m \u001b[0;32mimport\u001b[0m \u001b[0mos\u001b[0m\u001b[0;34m\u001b[0m\u001b[0;34m\u001b[0m\u001b[0m\n\u001b[0;32m----> 4\u001b[0;31m \u001b[0mdrive\u001b[0m\u001b[0;34m.\u001b[0m\u001b[0mmount\u001b[0m\u001b[0;34m(\u001b[0m\u001b[0;34m'/content/drive'\u001b[0m\u001b[0;34m)\u001b[0m\u001b[0;34m\u001b[0m\u001b[0;34m\u001b[0m\u001b[0m\n\u001b[0m\u001b[1;32m      5\u001b[0m \u001b[0;34m\u001b[0m\u001b[0m\n\u001b[1;32m      6\u001b[0m \u001b[0;32mif\u001b[0m \u001b[0;32mnot\u001b[0m \u001b[0mos\u001b[0m\u001b[0;34m.\u001b[0m\u001b[0mpath\u001b[0m\u001b[0;34m.\u001b[0m\u001b[0mexists\u001b[0m\u001b[0;34m(\u001b[0m\u001b[0;34m\"/content/drive/MyDrive/siendir\"\u001b[0m\u001b[0;34m)\u001b[0m\u001b[0;34m:\u001b[0m\u001b[0;34m\u001b[0m\u001b[0;34m\u001b[0m\u001b[0m\n",
            "\u001b[0;32m/usr/local/lib/python3.10/dist-packages/google/colab/drive.py\u001b[0m in \u001b[0;36mmount\u001b[0;34m(mountpoint, force_remount, timeout_ms, readonly)\u001b[0m\n\u001b[1;32m     98\u001b[0m \u001b[0;32mdef\u001b[0m \u001b[0mmount\u001b[0m\u001b[0;34m(\u001b[0m\u001b[0mmountpoint\u001b[0m\u001b[0;34m,\u001b[0m \u001b[0mforce_remount\u001b[0m\u001b[0;34m=\u001b[0m\u001b[0;32mFalse\u001b[0m\u001b[0;34m,\u001b[0m \u001b[0mtimeout_ms\u001b[0m\u001b[0;34m=\u001b[0m\u001b[0;36m120000\u001b[0m\u001b[0;34m,\u001b[0m \u001b[0mreadonly\u001b[0m\u001b[0;34m=\u001b[0m\u001b[0;32mFalse\u001b[0m\u001b[0;34m)\u001b[0m\u001b[0;34m:\u001b[0m\u001b[0;34m\u001b[0m\u001b[0;34m\u001b[0m\u001b[0m\n\u001b[1;32m     99\u001b[0m   \u001b[0;34m\"\"\"Mount your Google Drive at the specified mountpoint path.\"\"\"\u001b[0m\u001b[0;34m\u001b[0m\u001b[0;34m\u001b[0m\u001b[0m\n\u001b[0;32m--> 100\u001b[0;31m   return _mount(\n\u001b[0m\u001b[1;32m    101\u001b[0m       \u001b[0mmountpoint\u001b[0m\u001b[0;34m,\u001b[0m\u001b[0;34m\u001b[0m\u001b[0;34m\u001b[0m\u001b[0m\n\u001b[1;32m    102\u001b[0m       \u001b[0mforce_remount\u001b[0m\u001b[0;34m=\u001b[0m\u001b[0mforce_remount\u001b[0m\u001b[0;34m,\u001b[0m\u001b[0;34m\u001b[0m\u001b[0;34m\u001b[0m\u001b[0m\n",
            "\u001b[0;32m/usr/local/lib/python3.10/dist-packages/google/colab/drive.py\u001b[0m in \u001b[0;36m_mount\u001b[0;34m(mountpoint, force_remount, timeout_ms, ephemeral, readonly)\u001b[0m\n\u001b[1;32m    135\u001b[0m   )\n\u001b[1;32m    136\u001b[0m   \u001b[0;32mif\u001b[0m \u001b[0mephemeral\u001b[0m\u001b[0;34m:\u001b[0m\u001b[0;34m\u001b[0m\u001b[0;34m\u001b[0m\u001b[0m\n\u001b[0;32m--> 137\u001b[0;31m     _message.blocking_request(\n\u001b[0m\u001b[1;32m    138\u001b[0m         \u001b[0;34m'request_auth'\u001b[0m\u001b[0;34m,\u001b[0m\u001b[0;34m\u001b[0m\u001b[0;34m\u001b[0m\u001b[0m\n\u001b[1;32m    139\u001b[0m         \u001b[0mrequest\u001b[0m\u001b[0;34m=\u001b[0m\u001b[0;34m{\u001b[0m\u001b[0;34m'authType'\u001b[0m\u001b[0;34m:\u001b[0m \u001b[0;34m'dfs_ephemeral'\u001b[0m\u001b[0;34m}\u001b[0m\u001b[0;34m,\u001b[0m\u001b[0;34m\u001b[0m\u001b[0;34m\u001b[0m\u001b[0m\n",
            "\u001b[0;32m/usr/local/lib/python3.10/dist-packages/google/colab/_message.py\u001b[0m in \u001b[0;36mblocking_request\u001b[0;34m(request_type, request, timeout_sec, parent)\u001b[0m\n\u001b[1;32m    174\u001b[0m       \u001b[0mrequest_type\u001b[0m\u001b[0;34m,\u001b[0m \u001b[0mrequest\u001b[0m\u001b[0;34m,\u001b[0m \u001b[0mparent\u001b[0m\u001b[0;34m=\u001b[0m\u001b[0mparent\u001b[0m\u001b[0;34m,\u001b[0m \u001b[0mexpect_reply\u001b[0m\u001b[0;34m=\u001b[0m\u001b[0;32mTrue\u001b[0m\u001b[0;34m\u001b[0m\u001b[0;34m\u001b[0m\u001b[0m\n\u001b[1;32m    175\u001b[0m   )\n\u001b[0;32m--> 176\u001b[0;31m   \u001b[0;32mreturn\u001b[0m \u001b[0mread_reply_from_input\u001b[0m\u001b[0;34m(\u001b[0m\u001b[0mrequest_id\u001b[0m\u001b[0;34m,\u001b[0m \u001b[0mtimeout_sec\u001b[0m\u001b[0;34m)\u001b[0m\u001b[0;34m\u001b[0m\u001b[0;34m\u001b[0m\u001b[0m\n\u001b[0m",
            "\u001b[0;32m/usr/local/lib/python3.10/dist-packages/google/colab/_message.py\u001b[0m in \u001b[0;36mread_reply_from_input\u001b[0;34m(message_id, timeout_sec)\u001b[0m\n\u001b[1;32m    101\u001b[0m     ):\n\u001b[1;32m    102\u001b[0m       \u001b[0;32mif\u001b[0m \u001b[0;34m'error'\u001b[0m \u001b[0;32min\u001b[0m \u001b[0mreply\u001b[0m\u001b[0;34m:\u001b[0m\u001b[0;34m\u001b[0m\u001b[0;34m\u001b[0m\u001b[0m\n\u001b[0;32m--> 103\u001b[0;31m         \u001b[0;32mraise\u001b[0m \u001b[0mMessageError\u001b[0m\u001b[0;34m(\u001b[0m\u001b[0mreply\u001b[0m\u001b[0;34m[\u001b[0m\u001b[0;34m'error'\u001b[0m\u001b[0;34m]\u001b[0m\u001b[0;34m)\u001b[0m\u001b[0;34m\u001b[0m\u001b[0;34m\u001b[0m\u001b[0m\n\u001b[0m\u001b[1;32m    104\u001b[0m       \u001b[0;32mreturn\u001b[0m \u001b[0mreply\u001b[0m\u001b[0;34m.\u001b[0m\u001b[0mget\u001b[0m\u001b[0;34m(\u001b[0m\u001b[0;34m'data'\u001b[0m\u001b[0;34m,\u001b[0m \u001b[0;32mNone\u001b[0m\u001b[0;34m)\u001b[0m\u001b[0;34m\u001b[0m\u001b[0;34m\u001b[0m\u001b[0m\n\u001b[1;32m    105\u001b[0m \u001b[0;34m\u001b[0m\u001b[0m\n",
            "\u001b[0;31mMessageError\u001b[0m: Error: credential propagation was unsuccessful"
          ]
        }
      ],
      "source": [
        "#@title Google Driveをマウント\n",
        "from google.colab import drive\n",
        "import os\n",
        "drive.mount('/content/drive')\n",
        "\n",
        "if not os.path.exists(\"/content/drive/MyDrive/siendir\"):\n",
        "  !mkdir /content/drive/MyDrive/siendir\n"
      ]
    },
    {
      "cell_type": "markdown",
      "metadata": {
        "id": "WFxWQ-l3J_hq"
      },
      "source": [
        "## Youtube動画ダウンロード\n",
        "Youtubeの動画をダウンロードし、Google Driveに保存します。yt-dlpを用いています\n",
        "\n",
        "デフォルトで最高画質&フレームレートでダウンロードする仕様です。\n",
        "\n",
        "サイトが対応しているようであれば他サイトもダウンロード可能です。(ニコニコの方に入力するとうまくいきやすいです)\n",
        "\n",
        "ダウンロードされた動画素材はsiendirディレクトリに保存されます。  "
      ]
    },
    {
      "cell_type": "code",
      "execution_count": null,
      "metadata": {
        "cellView": "form",
        "id": "uz0keOq4KWKG"
      },
      "outputs": [],
      "source": [
        "#@title 初期化処理(初めに実行してください)\n",
        "!apt install ffmpeg\n",
        "!pip install yt-dlp"
      ]
    },
    {
      "cell_type": "code",
      "execution_count": null,
      "metadata": {
        "cellView": "form",
        "id": "zPzMjfi9Kb7u"
      },
      "outputs": [],
      "source": [
        "#@title 動画をダウンロード(Youtube等)\n",
        "\n",
        "movie_url = \"https://www.youtube.com/watch?v=KyjhLRymzsk\"#@param {type:\"string\"}\n",
        "\n",
        "!yt-dlp -f \"bestvideo[ext=mp4]+bestaudio[ext=m4a]\" --merge-output-format mp4 -o \"/content/drive/MyDrive/siendir/%(title)s-%(height)s.%(ext)s\" --no-mtime \"$movie_url\""
      ]
    },
    {
      "cell_type": "code",
      "execution_count": null,
      "metadata": {
        "cellView": "form",
        "id": "AYjlLxyGjpaa"
      },
      "outputs": [],
      "source": [
        "#@title 動画をダウンロード(ニコニコ)\n",
        "\n",
        "movie_url = \"https://www.nicovideo.jp/watch/sm39300654\"#@param {type:\"string\"}\n",
        "\n",
        "!yt-dlp -f \"b\" --merge-output-format mp4 -o \"/content/drive/MyDrive/siendir/%(title)s-%(height)s.%(ext)s\" --no-mtime \"$movie_url\""
      ]
    },
    {
      "cell_type": "markdown",
      "metadata": {
        "id": "c1BmzHfQOGcW"
      },
      "source": [
        "## 動画形式変換\n",
        "動画のファイル形式を変換したり、音声にしたりできるものです。ffmpegを用いています  \n",
        "\n",
        "互換性のある形式に変換…Twitterや動画ソフトで互換性がないとエラーが出るときにお使いください  \n",
        "\n",
        "音声に変換…mp3ファイルとwavファイルに変換することができます  "
      ]
    },
    {
      "cell_type": "code",
      "execution_count": null,
      "metadata": {
        "cellView": "form",
        "id": "m1vx_z3YOaen"
      },
      "outputs": [],
      "source": [
        "#@title 初期化処理(初めに実行してください)\n",
        "!apt install ffmpeg"
      ]
    },
    {
      "cell_type": "code",
      "execution_count": null,
      "metadata": {
        "cellView": "form",
        "id": "0pG-61lOOcVg"
      },
      "outputs": [],
      "source": [
        "#@title 互換性のある動画形式(H264+AAC)に変換\n",
        "\n",
        "import glob\n",
        "\n",
        "files = glob.glob('/content/drive/My Drive/siendir/*.mp4', recursive=True)\n",
        "\n",
        "for index, tmpname in enumerate(files):\n",
        "  print(\"{}. {}\".format(index, tmpname))\n",
        "\n",
        "num = int(input(\"変換したい動画を選択してください: \"))\n",
        "filename = files[num]\n",
        "filename_after = \"{}_convert.mp4\".format(files[num].split(\".\")[0])\n",
        "\n",
        "\n",
        "!ffmpeg -i \"$filename\" -vcodec libx264  -acodec aac -pix_fmt yuv420p \"$filename_after\"\n"
      ]
    },
    {
      "cell_type": "code",
      "execution_count": null,
      "metadata": {
        "cellView": "form",
        "id": "HmtZGLtIOl4Q"
      },
      "outputs": [],
      "source": [
        "#@title mp3形式に変換\n",
        "import glob\n",
        "\n",
        "files = glob.glob('/content/drive/My Drive/siendir/*.mp4', recursive=True) + glob.glob('/content/drive/My Drive/siendir/*.wav', recursive=True)\n",
        "\n",
        "for index, tmpname in enumerate(files):\n",
        "  print(\"{}. {}\".format(index, tmpname))\n",
        "\n",
        "num = int(input(\"変換したい動画を選択してください: \"))\n",
        "filename = files[num]\n",
        "filename_after = \"{}_convert.mp3\".format(files[num].split(\".\")[0])\n",
        "\n",
        "\n",
        "!ffmpeg -i \"$filename\" -acodec libmp3lame \"$filename_after\""
      ]
    },
    {
      "cell_type": "code",
      "execution_count": null,
      "metadata": {
        "cellView": "form",
        "id": "UNUHsPt5VuIZ"
      },
      "outputs": [],
      "source": [
        "#@title wav形式に変換\n",
        "import glob\n",
        "\n",
        "files = glob.glob('/content/drive/My Drive/siendir/*.mp4', recursive=True) + glob.glob('/content/drive/My Drive/siendir/*.mp3', recursive=True)\n",
        "\n",
        "for index, tmpname in enumerate(files):\n",
        "  print(\"{}. {}\".format(index, tmpname))\n",
        "\n",
        "num = int(input(\"変換したい動画を選択してください: \"))\n",
        "filename = files[num]\n",
        "filename_after = \"{}_convert.wav\".format(files[num].split(\".\")[0])\n",
        "\n",
        "\n",
        "!ffmpeg -i \"$filename\" -acodec pcm_s24le \"$filename_after\""
      ]
    },
    {
      "cell_type": "markdown",
      "metadata": {
        "id": "CU-4aSF4vKH6"
      },
      "source": [
        "## 音源分離(Demucs v3)\n",
        "音源分離をし、曲から歌声を抽出したりBGMを除去したりするものです  \n",
        "\n",
        "こちらはDemucs v3を用いるため、現時点では最高レベルの精度が期待できます  \n",
        "\n",
        "4音に分割する仕様です  \n",
        "\n",
        "分離したい音源は事前に上で音声ファイルに変換しておいてください  \n",
        "\n",
        "分離した素材はファイル名/htdemucs_ftディレクトリ内部に保存されます  "
      ]
    },
    {
      "cell_type": "code",
      "execution_count": null,
      "metadata": {
        "cellView": "form",
        "id": "nonoONFnvKH7"
      },
      "outputs": [],
      "source": [
        "#@title 初期化処理(初めに実行してください)\n",
        "#@markdown また、これを実行したあとは「RESTART RUNTIME」ボタンを押す必要があるっぽいです\n",
        "!apt install ffmpeg\n",
        "!pip install demucs"
      ]
    },
    {
      "cell_type": "code",
      "execution_count": null,
      "metadata": {
        "cellView": "form",
        "id": "2e4cBdvyvKH7"
      },
      "outputs": [],
      "source": [
        "#@title 音源分離\n",
        "\n",
        "import glob\n",
        "import os\n",
        "\n",
        "files = glob.glob('/content/drive/My Drive/siendir/*.wav', recursive=True) + glob.glob('/content/drive/My Drive/siendir/*.mp3', recursive=True)\n",
        "\n",
        "for index, tmpname in enumerate(files):\n",
        "  print(\"{}. {}\".format(index, tmpname))\n",
        "\n",
        "num = int(input(\"音源分離したい音声を選択してください: \"))\n",
        "filename = files[num]\n",
        "dirname_after = \"{}\".format(files[num].split(\".\")[0])\n",
        "\n",
        "if not os.path.exists(dirname_after):\n",
        "  !mkdir \"$dirname_after\"\n",
        "\n",
        "!demucs -o \"$dirname_after\" -n \"htdemucs_ft\" \"$filename\""
      ]
    },
    {
      "cell_type": "markdown",
      "metadata": {
        "id": "1UJ-dKJqXv6w"
      },
      "source": [
        "## 音源分離(spleeter)\n",
        "音源分離をし、曲から歌声を抽出したりBGMを除去したりするものです\n",
        "\n",
        "こちらはspleeterを用いるため、少し精度は劣ります  \n",
        "\n",
        "5音に分割する仕様です\n",
        "\n",
        "分離したい音源は事前に上で音声ファイルに変換しておいてください  \n",
        "\n",
        "分離した素材はファイル名/ファイル名ディレクトリ内部に保存されます  \n"
      ]
    },
    {
      "cell_type": "code",
      "execution_count": null,
      "metadata": {
        "cellView": "form",
        "id": "UZWdikgfX7sz"
      },
      "outputs": [],
      "source": [
        "#@title 初期化処理(初めに実行してください)\n",
        "#@markdown また、これを実行したあとは「RESTART RUNTIME」ボタンを押す必要があるっぽいです\n",
        "!pip install spleeter-gpu"
      ]
    },
    {
      "cell_type": "code",
      "execution_count": null,
      "metadata": {
        "cellView": "form",
        "id": "XShFjnZBYLdJ"
      },
      "outputs": [],
      "source": [
        "#@title 音源分離\n",
        "\n",
        "import glob\n",
        "import os\n",
        "\n",
        "files = glob.glob('/content/drive/My Drive/siendir/*.wav', recursive=True) + glob.glob('/content/drive/My Drive/siendir/*.mp3', recursive=True)\n",
        "\n",
        "for index, tmpname in enumerate(files):\n",
        "  print(\"{}. {}\".format(index, tmpname))\n",
        "\n",
        "num = int(input(\"音源分離したい音声を選択してください: \"))\n",
        "filename = files[num]\n",
        "dirname_after = \"{}\".format(files[num].split(\".\")[0])\n",
        "\n",
        "if not os.path.exists(dirname_after):\n",
        "  !mkdir \"$dirname_after\"\n",
        "\n",
        "!spleeter separate -o \"$dirname_after\" -p spleeter:5stems -i \"$filename\""
      ]
    },
    {
      "cell_type": "markdown",
      "metadata": {
        "id": "Wy7d67LQ0Zq9"
      },
      "source": [
        "## MIDI変換\n",
        "音源をMIDIに変換する機能です  \n",
        "\n",
        "basic-pitchを利用します  \n",
        "\n",
        "変換したい音源は事前に上で音声ファイルに変換しておいてください  \n",
        "\n"
      ]
    },
    {
      "cell_type": "code",
      "execution_count": null,
      "metadata": {
        "cellView": "form",
        "id": "HKGCArIJ0Zq9"
      },
      "outputs": [],
      "source": [
        "#@title 初期化処理(初めに実行してください)\n",
        "!pip install basic-pitch"
      ]
    },
    {
      "cell_type": "code",
      "execution_count": null,
      "metadata": {
        "cellView": "form",
        "id": "ha5BP0R60Zq9"
      },
      "outputs": [],
      "source": [
        "#@title MIDI変換\n",
        "\n",
        "import glob\n",
        "import os\n",
        "\n",
        "files = glob.glob('/content/drive/My Drive/siendir/*.wav', recursive=True) + glob.glob('/content/drive/My Drive/siendir/*.mp3', recursive=True)\n",
        "\n",
        "for index, tmpname in enumerate(files):\n",
        "  print(\"{}. {}\".format(index, tmpname))\n",
        "\n",
        "num = int(input(\"MIDIへ変換したい音声を選択してください: \"))\n",
        "filename = files[num]\n",
        "dirname_after = os.path.dirname(filename)\n",
        "\n",
        "\n",
        "!basic-pitch \"$dirname_after\" \"$filename\""
      ]
    },
    {
      "cell_type": "markdown",
      "metadata": {
        "id": "NW7c40XhvKH8"
      },
      "source": [
        "## 動画高画質化  \n",
        "\n",
        "動画を高画質にするものです  \n",
        "\n",
        "デフォルトでは二倍の解像度になります  \n",
        "\n",
        "Real-ESRGANという技術を用いています  \n",
        "\n",
        "あまり元素材の解像度が高すぎると動かない可能性があります  \n",
        "\n",
        "変換した動画はファイル名_esr.mp4に保存されます  \n"
      ]
    },
    {
      "cell_type": "code",
      "execution_count": null,
      "metadata": {
        "cellView": "form",
        "id": "rjzI7unQvKH9"
      },
      "outputs": [],
      "source": [
        "#@title 初期化処理(初めに実行してください)\n",
        "!apt install ffmpeg\n",
        "!git clone https://github.com/xinntao/Real-ESRGAN\n",
        "%cd Real-ESRGAN\n",
        "\n",
        "!pip install basicsr\n",
        "!pip install facexlib\n",
        "!pip install gfpgan\n",
        "!pip install -r requirements.txt\n",
        "!python setup.py develop\n",
        "# Download the pre-trained model\n",
        "!wget https://github.com/xinntao/Real-ESRGAN/releases/download/v0.2.2.4/RealESRGAN_x4plus_anime_6B.pth -P experiments/pretrained_models\n",
        "\n",
        "%cd ../"
      ]
    },
    {
      "cell_type": "code",
      "execution_count": null,
      "metadata": {
        "cellView": "form",
        "id": "h3UR20RWvKH9"
      },
      "outputs": [],
      "source": [
        "#@title 高画質素材を作成\n",
        "\n",
        "is_deletedir= True #@param {type:\"boolean\"}\n",
        "\n",
        "import glob\n",
        "import os\n",
        "\n",
        "files = glob.glob('/content/drive/My Drive/siendir/*.mp4', recursive=True)\n",
        "\n",
        "for index, tmpname in enumerate(files):\n",
        "  print(\"{}. {}\".format(index, tmpname))\n",
        "\n",
        "num = int(input(\"変換したい動画を選択してください: \"))\n",
        "filename = files[num]\n",
        "\n",
        "dirname_before_tmp = \"{}_beforeesr\".format(files[num].split(\".\")[0])\n",
        "audioname_before_tmp = \"{}_beforeesr/audio.wav\".format(files[num].split(\".\")[0])\n",
        "imgname_before_tmp = \"{}_beforeesr/%04d.png\".format(files[num].split(\".\")[0])\n",
        "dirname_after_tmp = \"{}_afteresr\".format(files[num].split(\".\")[0])\n",
        "imgname_after_tmp = \"{}_afteresr/%04d_out.png\".format(files[num].split(\".\")[0])\n",
        "\n",
        "filename_after = \"{}_esr.mp4\".format(files[num].split(\".\")[0])\n",
        "\n",
        "if not os.path.exists(dirname_before_tmp):\n",
        "  !mkdir \"$dirname_before_tmp\"\n",
        "\n",
        "!ffmpeg -i \"$filename\" \"$audioname_before_tmp\"\n",
        "\n",
        "fpstmplist = !ffprobe -v 0 -of csv=p=0 -select_streams v:0 -show_entries stream=r_frame_rate \"$filename\"\n",
        "fpstmp = fpstmplist[0]\n",
        "!ffmpeg -i \"$filename\" -qscale:v 1 -qmin 1 -qmax 1 -vsync 1 -vcodec png -r \"$fpstmp\" \"$imgname_before_tmp\"\n",
        "\n",
        "%cd Real-ESRGAN\n",
        "!python ./inference_realesrgan.py -n RealESRGAN_x4plus_anime_6B -i \"$dirname_before_tmp\" -o \"$dirname_after_tmp\" --outscale 2\n",
        "%cd ../\n",
        "\n",
        "!ffmpeg -r \"$fpstmp\" -i \"$imgname_after_tmp\" -i \"$audioname_before_tmp\" -c:v libx264 -r \"$fpstmp\" -vsync 1 -pix_fmt yuv420p \"$filename_after\"\n",
        "\n",
        "\n",
        "if is_deletedir == True:\n",
        "  !rm -rf \"$dirname_before_tmp\"\n",
        "  !rm -rf \"$dirname_after_tmp\""
      ]
    },
    {
      "cell_type": "markdown",
      "metadata": {
        "id": "o_bzlufrcqNn"
      },
      "source": [
        "## 透過素材作成\n",
        "\n",
        "背景が透過された素材を作成するものです\n",
        "\n",
        "anime-segmentationという技術を用いています  \n",
        "\n",
        "生成された動画はファイル名_seg.aviに保存されます\n",
        "\n",
        "コーデックはUtVideo RGBA形式で出力されます\n",
        "\n",
        "Aviutlでもデフォルトで読み込めるようになっているはずです  \n"
      ]
    },
    {
      "cell_type": "code",
      "execution_count": null,
      "metadata": {
        "cellView": "form",
        "id": "U6v4u85Hcpt3"
      },
      "outputs": [],
      "source": [
        "#@title 初期化処理(初めに実行してください)\n",
        "!apt install ffmpeg\n",
        "!git clone https://github.com/SkyTNT/anime-segmentation\n",
        "!pip install -r anime-segmentation/requirements.txt\n",
        "!wget -P anime-segmentation https://huggingface.co/skytnt/anime-seg/resolve/main/isnetis.ckpt"
      ]
    },
    {
      "cell_type": "code",
      "execution_count": null,
      "metadata": {
        "cellView": "form",
        "id": "fjS3PDGydNmu"
      },
      "outputs": [],
      "source": [
        "#@title 透過素材を作成\n",
        "\n",
        "is_deletedir= True #@param {type:\"boolean\"}\n",
        "\n",
        "import glob\n",
        "import os\n",
        "\n",
        "files = glob.glob('/content/drive/My Drive/siendir/*.mp4', recursive=True)\n",
        "\n",
        "for index, tmpname in enumerate(files):\n",
        "  print(\"{}. {}\".format(index, tmpname))\n",
        "\n",
        "num = int(input(\"変換したい動画を選択してください: \"))\n",
        "filename = files[num]\n",
        "\n",
        "dirname_before_tmp = \"{}_beforeseg\".format(files[num].split(\".\")[0])\n",
        "audioname_before_tmp = \"{}_beforeseg/audio.wav\".format(files[num].split(\".\")[0])\n",
        "imgname_before_tmp = \"{}_beforeseg/%04d.png\".format(files[num].split(\".\")[0])\n",
        "dirname_after_tmp = \"{}_afterseg\".format(files[num].split(\".\")[0])\n",
        "imgname_after_tmp = \"{}_afterseg/%06d.png\".format(files[num].split(\".\")[0])\n",
        "\n",
        "filename_after = \"{}_seg.avi\".format(files[num].split(\".\")[0])\n",
        "\n",
        "if not os.path.exists(dirname_before_tmp):\n",
        "  !mkdir \"$dirname_before_tmp\"\n",
        "\n",
        "!ffmpeg -i \"$filename\" \"$audioname_before_tmp\"\n",
        "\n",
        "fpstmplist = !ffprobe -v 0 -of csv=p=0 -select_streams v:0 -show_entries stream=r_frame_rate \"$filename\"\n",
        "fpstmp = fpstmplist[0]\n",
        "!ffmpeg -i \"$filename\" -qscale:v 1 -qmin 1 -qmax 1 -vsync 1 -vcodec png -r \"$fpstmp\" \"$imgname_before_tmp\"\n",
        "\n",
        "!python ./anime-segmentation/inference.py --net isnet_is --ckpt ./anime-segmentation/isnetis.ckpt --data \"$dirname_before_tmp\" --out \"$dirname_after_tmp\" --img-size 1024 --only-matted\n",
        "\n",
        "!ffmpeg -r \"$fpstmp\" -i \"$imgname_after_tmp\" -i \"$audioname_before_tmp\" -vcodec utvideo -acodec aac -r \"$fpstmp\" -vsync 1 \"$filename_after\"\n",
        "\n",
        "if is_deletedir == True:\n",
        "  !rm -rf \"$dirname_before_tmp\"\n",
        "  !rm -rf \"$dirname_after_tmp\"\n"
      ]
    }
  ],
  "metadata": {
    "accelerator": "GPU",
    "colab": {
      "name": "otosien-book.ipynb",
      "provenance": [],
      "include_colab_link": true
    },
    "gpuClass": "standard",
    "kernelspec": {
      "display_name": "Python 3.10.5 64-bit",
      "language": "python",
      "name": "python3"
    },
    "language_info": {
      "name": "python",
      "version": "3.10.5"
    },
    "vscode": {
      "interpreter": {
        "hash": "b9b7118d304977aa73126583136358f9a5507e117e629b308dd65690d7c80523"
      }
    }
  },
  "nbformat": 4,
  "nbformat_minor": 0
}